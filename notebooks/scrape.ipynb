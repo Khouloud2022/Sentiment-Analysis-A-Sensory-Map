{
 "cells": [
  {
   "cell_type": "code",
   "execution_count": null,
   "id": "74025e7e",
   "metadata": {
    "vscode": {
     "languageId": "plaintext"
    }
   },
   "outputs": [],
   "source": [
    "import tweepy\n",
    "import requests\n",
    "from bs4 import BeautifulSoup\n",
    "import pandas as pd\n",
    "import time"
   ]
  },
  {
   "cell_type": "code",
   "execution_count": null,
   "id": "58a754ee",
   "metadata": {
    "vscode": {
     "languageId": "plaintext"
    }
   },
   "outputs": [],
   "source": [
    "def scrape_twitter(bearer_token, query=\"(ريحة OR odeur) (Tunis OR Sousse) -is:retweet\", max_results=10):\n",
    "    client = tweepy.Client(bearer_token=bearer_token)\n",
    "    try:\n",
    "        response = client.search_recent_tweets(query=query, max_results=max_results)\n",
    "        return pd.DataFrame([{'Text': t.text, 'Date': t.created_at} for t in response.data or []])\n",
    "    except Exception as e:\n",
    "        print(f\"Twitter error: {e}\")\n",
    "        return pd.DataFrame()\n"
   ]
  },
  {
   "cell_type": "code",
   "execution_count": null,
   "id": "f7f97990",
   "metadata": {
    "vscode": {
     "languageId": "plaintext"
    }
   },
   "outputs": [],
   "source": [
    "def scrape_tripadvisor(url=\"https://www.tripadvisor.com/Restaurant_Review-g295401-d1425864-Reviews-Restaurant_du_Peuple-Sousse.html\"):\n",
    "    headers = {\"User-Agent\": \"Mozilla/5.0\"}\n",
    "    response = requests.get(url, headers=headers)\n",
    "    soup = BeautifulSoup(response.text, 'lxml')\n",
    "    reviews = []\n",
    "    for review in soup.find_all('div', {'data-automation': 'reviewCard'}, limit=10):\n",
    "        text = review.find('div', {'data-test-target': 'review-body'}).get_text(strip=True)\n",
    "        if 'smell' in text.lower() or 'tea' in text.lower():\n",
    "            reviews.append({'Text': text, 'Location': 'Sousse'})\n",
    "        time.sleep(5)\n",
    "    return pd.DataFrame(reviews)"
   ]
  }
 ],
 "metadata": {
  "language_info": {
   "name": "python"
  }
 },
 "nbformat": 4,
 "nbformat_minor": 5
}
